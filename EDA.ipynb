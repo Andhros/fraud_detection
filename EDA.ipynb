{
 "metadata": {
  "language_info": {
   "codemirror_mode": {
    "name": "ipython",
    "version": 3
   },
   "file_extension": ".py",
   "mimetype": "text/x-python",
   "name": "python",
   "nbconvert_exporter": "python",
   "pygments_lexer": "ipython3",
   "version": "3.8.3-final"
  },
  "orig_nbformat": 2,
  "kernelspec": {
   "name": "python3",
   "display_name": "Python 3",
   "language": "python"
  }
 },
 "nbformat": 4,
 "nbformat_minor": 2,
 "cells": [
  {
   "cell_type": "code",
   "execution_count": 1,
   "metadata": {},
   "outputs": [],
   "source": [
    "import pandas as pd\n",
    "import os\n",
    "import seaborn as sns"
   ]
  },
  {
   "cell_type": "code",
   "execution_count": 2,
   "metadata": {},
   "outputs": [],
   "source": [
    "pd.set_option('display.max_columns', 500)"
   ]
  },
  {
   "cell_type": "code",
   "execution_count": 3,
   "metadata": {},
   "outputs": [],
   "source": [
    "idee = pd.read_csv('train_identity.csv')\n",
    "transaction = pd.read_csv('train_transaction.csv')"
   ]
  },
  {
   "cell_type": "code",
   "execution_count": 4,
   "metadata": {},
   "outputs": [],
   "source": [
    "merge = transaction.merge(idee, how='outer', on='TransactionID')"
   ]
  },
  {
   "cell_type": "code",
   "execution_count": 5,
   "metadata": {},
   "outputs": [
    {
     "output_type": "execute_result",
     "data": {
      "text/plain": [
       "float64    399\n",
       "object      31\n",
       "int64        4\n",
       "dtype: int64"
      ]
     },
     "metadata": {},
     "execution_count": 5
    }
   ],
   "source": [
    "merge.dtypes.value_counts()"
   ]
  },
  {
   "cell_type": "code",
   "execution_count": 16,
   "metadata": {},
   "outputs": [
    {
     "output_type": "stream",
     "name": "stdout",
     "text": [
      "<class 'pandas.core.frame.DataFrame'>\nInt64Index: 590540 entries, 0 to 590539\nData columns (total 31 columns):\n #   Column         Non-Null Count   Dtype \n---  ------         --------------   ----- \n 0   ProductCD      590540 non-null  object\n 1   card4          588963 non-null  object\n 2   card6          588969 non-null  object\n 3   P_emaildomain  496084 non-null  object\n 4   R_emaildomain  137291 non-null  object\n 5   M1             319440 non-null  object\n 6   M2             319440 non-null  object\n 7   M3             319440 non-null  object\n 8   M4             309096 non-null  object\n 9   M5             240058 non-null  object\n 10  M6             421180 non-null  object\n 11  M7             244275 non-null  object\n 12  M8             244288 non-null  object\n 13  M9             244288 non-null  object\n 14  id_12          144233 non-null  object\n 15  id_15          140985 non-null  object\n 16  id_16          129340 non-null  object\n 17  id_23          5169 non-null    object\n 18  id_27          5169 non-null    object\n 19  id_28          140978 non-null  object\n 20  id_29          140978 non-null  object\n 21  id_30          77565 non-null   object\n 22  id_31          140282 non-null  object\n 23  id_33          73289 non-null   object\n 24  id_34          77805 non-null   object\n 25  id_35          140985 non-null  object\n 26  id_36          140985 non-null  object\n 27  id_37          140985 non-null  object\n 28  id_38          140985 non-null  object\n 29  DeviceType     140810 non-null  object\n 30  DeviceInfo     118666 non-null  object\ndtypes: object(31)\nmemory usage: 164.2+ MB\nNone\n###\n<class 'pandas.core.frame.DataFrame'>\nInt64Index: 590540 entries, 0 to 590539\nColumns: 403 entries, TransactionID to id_32\ndtypes: float64(399), int64(4)\nmemory usage: 1.8 GB\nNone\n"
     ]
    }
   ],
   "source": [
    "objects = merge.select_dtypes('object')\n",
    "numbers = merge.select_dtypes(include=['float64', 'int64'])\n",
    "print(objects.info())\n",
    "print('###')\n",
    "print(numbers.info())"
   ]
  },
  {
   "cell_type": "code",
   "execution_count": 17,
   "metadata": {},
   "outputs": [
    {
     "output_type": "execute_result",
     "data": {
      "text/plain": [
       "  ProductCD       card4   card6 P_emaildomain R_emaildomain       M1       M2  \\\n",
       "0         W    discover  credit       Unknown       Unknown        T        T   \n",
       "1         W  mastercard  credit     gmail.com       Unknown  Unknown  Unknown   \n",
       "2         W        visa   debit   outlook.com       Unknown        T        T   \n",
       "3         W  mastercard   debit     yahoo.com       Unknown  Unknown  Unknown   \n",
       "4         H  mastercard  credit     gmail.com       Unknown  Unknown  Unknown   \n",
       "\n",
       "        M3       M4       M5       M6       M7       M8       M9     id_12  \\\n",
       "0        T       M2        F        T  Unknown  Unknown  Unknown   Unknown   \n",
       "1  Unknown       M0        T        T  Unknown  Unknown  Unknown   Unknown   \n",
       "2        T       M0        F        F        F        F        F   Unknown   \n",
       "3  Unknown       M0        T        F  Unknown  Unknown  Unknown   Unknown   \n",
       "4  Unknown  Unknown  Unknown  Unknown  Unknown  Unknown  Unknown  NotFound   \n",
       "\n",
       "     id_15     id_16    id_23    id_27    id_28     id_29        id_30  \\\n",
       "0  Unknown   Unknown  Unknown  Unknown  Unknown   Unknown      Unknown   \n",
       "1  Unknown   Unknown  Unknown  Unknown  Unknown   Unknown      Unknown   \n",
       "2  Unknown   Unknown  Unknown  Unknown  Unknown   Unknown      Unknown   \n",
       "3  Unknown   Unknown  Unknown  Unknown  Unknown   Unknown      Unknown   \n",
       "4      New  NotFound  Unknown  Unknown      New  NotFound  Android 7.0   \n",
       "\n",
       "                 id_31      id_33           id_34    id_35    id_36    id_37  \\\n",
       "0              Unknown    Unknown         Unknown  Unknown  Unknown  Unknown   \n",
       "1              Unknown    Unknown         Unknown  Unknown  Unknown  Unknown   \n",
       "2              Unknown    Unknown         Unknown  Unknown  Unknown  Unknown   \n",
       "3              Unknown    Unknown         Unknown  Unknown  Unknown  Unknown   \n",
       "4  samsung browser 6.2  2220x1080  match_status:2        T        F        T   \n",
       "\n",
       "     id_38 DeviceType                     DeviceInfo  \n",
       "0  Unknown    Unknown                        Unknown  \n",
       "1  Unknown    Unknown                        Unknown  \n",
       "2  Unknown    Unknown                        Unknown  \n",
       "3  Unknown    Unknown                        Unknown  \n",
       "4        T     mobile  SAMSUNG SM-G892A Build/NRD90M  "
      ],
      "text/html": "<div>\n<style scoped>\n    .dataframe tbody tr th:only-of-type {\n        vertical-align: middle;\n    }\n\n    .dataframe tbody tr th {\n        vertical-align: top;\n    }\n\n    .dataframe thead th {\n        text-align: right;\n    }\n</style>\n<table border=\"1\" class=\"dataframe\">\n  <thead>\n    <tr style=\"text-align: right;\">\n      <th></th>\n      <th>ProductCD</th>\n      <th>card4</th>\n      <th>card6</th>\n      <th>P_emaildomain</th>\n      <th>R_emaildomain</th>\n      <th>M1</th>\n      <th>M2</th>\n      <th>M3</th>\n      <th>M4</th>\n      <th>M5</th>\n      <th>M6</th>\n      <th>M7</th>\n      <th>M8</th>\n      <th>M9</th>\n      <th>id_12</th>\n      <th>id_15</th>\n      <th>id_16</th>\n      <th>id_23</th>\n      <th>id_27</th>\n      <th>id_28</th>\n      <th>id_29</th>\n      <th>id_30</th>\n      <th>id_31</th>\n      <th>id_33</th>\n      <th>id_34</th>\n      <th>id_35</th>\n      <th>id_36</th>\n      <th>id_37</th>\n      <th>id_38</th>\n      <th>DeviceType</th>\n      <th>DeviceInfo</th>\n    </tr>\n  </thead>\n  <tbody>\n    <tr>\n      <th>0</th>\n      <td>W</td>\n      <td>discover</td>\n      <td>credit</td>\n      <td>Unknown</td>\n      <td>Unknown</td>\n      <td>T</td>\n      <td>T</td>\n      <td>T</td>\n      <td>M2</td>\n      <td>F</td>\n      <td>T</td>\n      <td>Unknown</td>\n      <td>Unknown</td>\n      <td>Unknown</td>\n      <td>Unknown</td>\n      <td>Unknown</td>\n      <td>Unknown</td>\n      <td>Unknown</td>\n      <td>Unknown</td>\n      <td>Unknown</td>\n      <td>Unknown</td>\n      <td>Unknown</td>\n      <td>Unknown</td>\n      <td>Unknown</td>\n      <td>Unknown</td>\n      <td>Unknown</td>\n      <td>Unknown</td>\n      <td>Unknown</td>\n      <td>Unknown</td>\n      <td>Unknown</td>\n      <td>Unknown</td>\n    </tr>\n    <tr>\n      <th>1</th>\n      <td>W</td>\n      <td>mastercard</td>\n      <td>credit</td>\n      <td>gmail.com</td>\n      <td>Unknown</td>\n      <td>Unknown</td>\n      <td>Unknown</td>\n      <td>Unknown</td>\n      <td>M0</td>\n      <td>T</td>\n      <td>T</td>\n      <td>Unknown</td>\n      <td>Unknown</td>\n      <td>Unknown</td>\n      <td>Unknown</td>\n      <td>Unknown</td>\n      <td>Unknown</td>\n      <td>Unknown</td>\n      <td>Unknown</td>\n      <td>Unknown</td>\n      <td>Unknown</td>\n      <td>Unknown</td>\n      <td>Unknown</td>\n      <td>Unknown</td>\n      <td>Unknown</td>\n      <td>Unknown</td>\n      <td>Unknown</td>\n      <td>Unknown</td>\n      <td>Unknown</td>\n      <td>Unknown</td>\n      <td>Unknown</td>\n    </tr>\n    <tr>\n      <th>2</th>\n      <td>W</td>\n      <td>visa</td>\n      <td>debit</td>\n      <td>outlook.com</td>\n      <td>Unknown</td>\n      <td>T</td>\n      <td>T</td>\n      <td>T</td>\n      <td>M0</td>\n      <td>F</td>\n      <td>F</td>\n      <td>F</td>\n      <td>F</td>\n      <td>F</td>\n      <td>Unknown</td>\n      <td>Unknown</td>\n      <td>Unknown</td>\n      <td>Unknown</td>\n      <td>Unknown</td>\n      <td>Unknown</td>\n      <td>Unknown</td>\n      <td>Unknown</td>\n      <td>Unknown</td>\n      <td>Unknown</td>\n      <td>Unknown</td>\n      <td>Unknown</td>\n      <td>Unknown</td>\n      <td>Unknown</td>\n      <td>Unknown</td>\n      <td>Unknown</td>\n      <td>Unknown</td>\n    </tr>\n    <tr>\n      <th>3</th>\n      <td>W</td>\n      <td>mastercard</td>\n      <td>debit</td>\n      <td>yahoo.com</td>\n      <td>Unknown</td>\n      <td>Unknown</td>\n      <td>Unknown</td>\n      <td>Unknown</td>\n      <td>M0</td>\n      <td>T</td>\n      <td>F</td>\n      <td>Unknown</td>\n      <td>Unknown</td>\n      <td>Unknown</td>\n      <td>Unknown</td>\n      <td>Unknown</td>\n      <td>Unknown</td>\n      <td>Unknown</td>\n      <td>Unknown</td>\n      <td>Unknown</td>\n      <td>Unknown</td>\n      <td>Unknown</td>\n      <td>Unknown</td>\n      <td>Unknown</td>\n      <td>Unknown</td>\n      <td>Unknown</td>\n      <td>Unknown</td>\n      <td>Unknown</td>\n      <td>Unknown</td>\n      <td>Unknown</td>\n      <td>Unknown</td>\n    </tr>\n    <tr>\n      <th>4</th>\n      <td>H</td>\n      <td>mastercard</td>\n      <td>credit</td>\n      <td>gmail.com</td>\n      <td>Unknown</td>\n      <td>Unknown</td>\n      <td>Unknown</td>\n      <td>Unknown</td>\n      <td>Unknown</td>\n      <td>Unknown</td>\n      <td>Unknown</td>\n      <td>Unknown</td>\n      <td>Unknown</td>\n      <td>Unknown</td>\n      <td>NotFound</td>\n      <td>New</td>\n      <td>NotFound</td>\n      <td>Unknown</td>\n      <td>Unknown</td>\n      <td>New</td>\n      <td>NotFound</td>\n      <td>Android 7.0</td>\n      <td>samsung browser 6.2</td>\n      <td>2220x1080</td>\n      <td>match_status:2</td>\n      <td>T</td>\n      <td>F</td>\n      <td>T</td>\n      <td>T</td>\n      <td>mobile</td>\n      <td>SAMSUNG SM-G892A Build/NRD90M</td>\n    </tr>\n  </tbody>\n</table>\n</div>"
     },
     "metadata": {},
     "execution_count": 17
    }
   ],
   "source": [
    "objects.fillna(\"Unknown\", inplace=True)\n",
    "objects.head()"
   ]
  },
  {
   "cell_type": "code",
   "execution_count": 18,
   "metadata": {},
   "outputs": [],
   "source": [
    "objects = pd.get_dummies(objects)"
   ]
  },
  {
   "cell_type": "code",
   "execution_count": 19,
   "metadata": {},
   "outputs": [
    {
     "output_type": "stream",
     "name": "stdout",
     "text": [
      "<class 'pandas.core.frame.DataFrame'>\nInt64Index: 590540 entries, 0 to 590539\nColumns: 2462 entries, TransactionID to DeviceInfo_xs-Z47b7VqTMxs\ndtypes: int64(1), uint8(2461)\nmemory usage: 1.4 GB\nNone\n"
     ]
    }
   ],
   "source": [
    "objects['TransactionID'] = merge['TransactionID']\n",
    "cols = objects.columns.to_list()\n",
    "cols = cols[-1:] + cols[:-1]\n",
    "objects = objects[cols]\n",
    "objects.astype('category')\n",
    "print(objects.info())"
   ]
  },
  {
   "cell_type": "code",
   "execution_count": 20,
   "metadata": {},
   "outputs": [],
   "source": [
    "numbers.fillna(numbers.mean(), inplace=True)"
   ]
  },
  {
   "cell_type": "code",
   "execution_count": 21,
   "metadata": {
    "tags": []
   },
   "outputs": [
    {
     "output_type": "stream",
     "name": "stdout",
     "text": [
      "TransactionID     0\n",
      "isFraud           0\n",
      "TransactionDT     0\n",
      "TransactionAmt    0\n",
      "card1             0\n",
      "                 ..\n",
      "id_22             0\n",
      "id_24             0\n",
      "id_25             0\n",
      "id_26             0\n",
      "id_32             0\n",
      "Length: 403, dtype: int64\n",
      "TransactionID                0\n",
      "ProductCD_C                  0\n",
      "ProductCD_H                  0\n",
      "ProductCD_R                  0\n",
      "ProductCD_S                  0\n",
      "                            ..\n",
      "DeviceInfo_verykools5004     0\n",
      "DeviceInfo_verykools5034     0\n",
      "DeviceInfo_verykools5035     0\n",
      "DeviceInfo_vivo              0\n",
      "DeviceInfo_xs-Z47b7VqTMxs    0\n",
      "Length: 2462, dtype: int64\n"
     ]
    }
   ],
   "source": [
    "print(numbers.isna().sum())\n",
    "print(objects.isna().sum())"
   ]
  },
  {
   "cell_type": "code",
   "execution_count": 22,
   "metadata": {},
   "outputs": [
    {
     "output_type": "stream",
     "name": "stdout",
     "text": [
      "<class 'pandas.core.frame.DataFrame'>\nInt64Index: 590540 entries, 0 to 590539\nColumns: 2864 entries, TransactionID to id_32\ndtypes: float64(399), int64(4), uint8(2461)\nmemory usage: 3.1 GB\n"
     ]
    }
   ],
   "source": [
    "preprocessed = objects.merge(numbers, how='outer', on='TransactionID')\n",
    "preprocessed.info()"
   ]
  },
  {
   "cell_type": "code",
   "execution_count": 23,
   "metadata": {},
   "outputs": [
    {
     "output_type": "stream",
     "name": "stdout",
     "text": [
      "<class 'pandas.core.frame.DataFrame'>\nInt64Index: 590540 entries, 0 to 590539\nColumns: 2863 entries, TransactionID to id_32\ndtypes: float64(399), int64(3), uint8(2461)\nmemory usage: 3.1 GB\nNone\n590540\n"
     ]
    }
   ],
   "source": [
    "X = preprocessed\n",
    "del preprocessed\n",
    "y = X.isFraud\n",
    "X.drop(columns='isFraud', inplace=True)\n",
    "print(X.info())\n",
    "print(len(y))"
   ]
  },
  {
   "cell_type": "code",
   "execution_count": 24,
   "metadata": {},
   "outputs": [
    {
     "output_type": "error",
     "ename": "ModuleNotFoundError",
     "evalue": "No module named 'sklearn'",
     "traceback": [
      "\u001b[1;31m---------------------------------------------------------------------------\u001b[0m",
      "\u001b[1;31mModuleNotFoundError\u001b[0m                       Traceback (most recent call last)",
      "\u001b[1;32m<ipython-input-24-539958962541>\u001b[0m in \u001b[0;36m<module>\u001b[1;34m\u001b[0m\n\u001b[1;32m----> 1\u001b[1;33m \u001b[1;32mfrom\u001b[0m \u001b[0msklearn\u001b[0m\u001b[1;33m.\u001b[0m\u001b[0mmodel_selection\u001b[0m \u001b[1;32mimport\u001b[0m \u001b[0mtrain_test_split\u001b[0m\u001b[1;33m\u001b[0m\u001b[1;33m\u001b[0m\u001b[0m\n\u001b[0m\u001b[0;32m      2\u001b[0m \u001b[1;33m\u001b[0m\u001b[0m\n\u001b[0;32m      3\u001b[0m \u001b[0mX_train\u001b[0m\u001b[1;33m,\u001b[0m \u001b[0mX_test\u001b[0m\u001b[1;33m,\u001b[0m \u001b[0my_train\u001b[0m\u001b[1;33m,\u001b[0m \u001b[0my_test\u001b[0m \u001b[1;33m=\u001b[0m \u001b[0mtrain_test_split\u001b[0m\u001b[1;33m(\u001b[0m\u001b[0mX\u001b[0m\u001b[1;33m,\u001b[0m \u001b[0my\u001b[0m\u001b[1;33m,\u001b[0m \u001b[0mtest_size\u001b[0m\u001b[1;33m=\u001b[0m\u001b[1;36m0.3\u001b[0m\u001b[1;33m,\u001b[0m \u001b[0mrandom_state\u001b[0m\u001b[1;33m=\u001b[0m\u001b[1;36m37\u001b[0m\u001b[1;33m)\u001b[0m\u001b[1;33m\u001b[0m\u001b[1;33m\u001b[0m\u001b[0m\n",
      "\u001b[1;31mModuleNotFoundError\u001b[0m: No module named 'sklearn'"
     ]
    }
   ],
   "source": [
    "from sklearn.model_selection import train_test_split\n",
    "\n",
    "X_train, X_test, y_train, y_test = train_test_split(X, y, test_size=0.3, random_state=37)"
   ]
  }
 ]
}