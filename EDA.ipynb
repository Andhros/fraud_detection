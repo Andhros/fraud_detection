{
 "metadata": {
  "language_info": {
   "codemirror_mode": {
    "name": "ipython",
    "version": 3
   },
   "file_extension": ".py",
   "mimetype": "text/x-python",
   "name": "python",
   "nbconvert_exporter": "python",
   "pygments_lexer": "ipython3",
   "version": "3.7.9-final"
  },
  "orig_nbformat": 2,
  "kernelspec": {
   "name": "python3",
   "display_name": "Python 3",
   "language": "python"
  }
 },
 "nbformat": 4,
 "nbformat_minor": 2,
 "cells": [
  {
   "cell_type": "code",
   "execution_count": 3,
   "metadata": {},
   "outputs": [],
   "source": [
    "import pandas as pd\n",
    "import os\n",
    "import seaborn as sns"
   ]
  },
  {
   "cell_type": "code",
   "execution_count": 4,
   "metadata": {},
   "outputs": [],
   "source": [
    "pd.set_option('display.max_columns', 500)"
   ]
  },
  {
   "cell_type": "code",
   "execution_count": 5,
   "metadata": {},
   "outputs": [],
   "source": [
    "idee = pd.read_csv('train_identity.csv')\n",
    "transaction = pd.read_csv('train_transaction.csv')"
   ]
  },
  {
   "cell_type": "code",
   "execution_count": 6,
   "metadata": {},
   "outputs": [],
   "source": [
    "merge = transaction.merge(idee, how='outer', on='TransactionID')"
   ]
  },
  {
   "cell_type": "code",
   "execution_count": 7,
   "metadata": {},
   "outputs": [
    {
     "output_type": "execute_result",
     "data": {
      "text/plain": [
       "float64    399\n",
       "object      31\n",
       "int64        4\n",
       "dtype: int64"
      ]
     },
     "metadata": {},
     "execution_count": 7
    }
   ],
   "source": [
    "merge.dtypes.value_counts()"
   ]
  },
  {
   "cell_type": "code",
   "execution_count": 8,
   "metadata": {},
   "outputs": [
    {
     "output_type": "execute_result",
     "data": {
      "text/plain": [
       "       ProductCD       card4   card6 P_emaildomain R_emaildomain   M1   M2  \\\n",
       "0              W    discover  credit           NaN           NaN    T    T   \n",
       "1              W  mastercard  credit     gmail.com           NaN  NaN  NaN   \n",
       "2              W        visa   debit   outlook.com           NaN    T    T   \n",
       "3              W  mastercard   debit     yahoo.com           NaN  NaN  NaN   \n",
       "4              H  mastercard  credit     gmail.com           NaN  NaN  NaN   \n",
       "...          ...         ...     ...           ...           ...  ...  ...   \n",
       "590535         W        visa   debit           NaN           NaN    T    T   \n",
       "590536         W  mastercard   debit     gmail.com           NaN    T    F   \n",
       "590537         W  mastercard   debit     gmail.com           NaN    T    F   \n",
       "590538         W  mastercard   debit       aol.com           NaN    T    T   \n",
       "590539         W  mastercard  credit     gmail.com           NaN    T    F   \n",
       "\n",
       "         M3   M4   M5   M6   M7   M8   M9     id_12 id_15     id_16 id_23  \\\n",
       "0         T   M2    F    T  NaN  NaN  NaN       NaN   NaN       NaN   NaN   \n",
       "1       NaN   M0    T    T  NaN  NaN  NaN       NaN   NaN       NaN   NaN   \n",
       "2         T   M0    F    F    F    F    F       NaN   NaN       NaN   NaN   \n",
       "3       NaN   M0    T    F  NaN  NaN  NaN       NaN   NaN       NaN   NaN   \n",
       "4       NaN  NaN  NaN  NaN  NaN  NaN  NaN  NotFound   New  NotFound   NaN   \n",
       "...     ...  ...  ...  ...  ...  ...  ...       ...   ...       ...   ...   \n",
       "590535    T   M0    T    F    F    F    T       NaN   NaN       NaN   NaN   \n",
       "590536    F   M0    F    T    F    F    F       NaN   NaN       NaN   NaN   \n",
       "590537    F  NaN  NaN    T  NaN  NaN  NaN       NaN   NaN       NaN   NaN   \n",
       "590538    T   M0    F    T  NaN  NaN  NaN       NaN   NaN       NaN   NaN   \n",
       "590539    F  NaN  NaN    T    F    F    F       NaN   NaN       NaN   NaN   \n",
       "\n",
       "       id_27 id_28     id_29        id_30                id_31      id_33  \\\n",
       "0        NaN   NaN       NaN          NaN                  NaN        NaN   \n",
       "1        NaN   NaN       NaN          NaN                  NaN        NaN   \n",
       "2        NaN   NaN       NaN          NaN                  NaN        NaN   \n",
       "3        NaN   NaN       NaN          NaN                  NaN        NaN   \n",
       "4        NaN   New  NotFound  Android 7.0  samsung browser 6.2  2220x1080   \n",
       "...      ...   ...       ...          ...                  ...        ...   \n",
       "590535   NaN   NaN       NaN          NaN                  NaN        NaN   \n",
       "590536   NaN   NaN       NaN          NaN                  NaN        NaN   \n",
       "590537   NaN   NaN       NaN          NaN                  NaN        NaN   \n",
       "590538   NaN   NaN       NaN          NaN                  NaN        NaN   \n",
       "590539   NaN   NaN       NaN          NaN                  NaN        NaN   \n",
       "\n",
       "                 id_34 id_35 id_36 id_37 id_38 DeviceType  \\\n",
       "0                  NaN   NaN   NaN   NaN   NaN        NaN   \n",
       "1                  NaN   NaN   NaN   NaN   NaN        NaN   \n",
       "2                  NaN   NaN   NaN   NaN   NaN        NaN   \n",
       "3                  NaN   NaN   NaN   NaN   NaN        NaN   \n",
       "4       match_status:2     T     F     T     T     mobile   \n",
       "...                ...   ...   ...   ...   ...        ...   \n",
       "590535             NaN   NaN   NaN   NaN   NaN        NaN   \n",
       "590536             NaN   NaN   NaN   NaN   NaN        NaN   \n",
       "590537             NaN   NaN   NaN   NaN   NaN        NaN   \n",
       "590538             NaN   NaN   NaN   NaN   NaN        NaN   \n",
       "590539             NaN   NaN   NaN   NaN   NaN        NaN   \n",
       "\n",
       "                           DeviceInfo  \n",
       "0                                 NaN  \n",
       "1                                 NaN  \n",
       "2                                 NaN  \n",
       "3                                 NaN  \n",
       "4       SAMSUNG SM-G892A Build/NRD90M  \n",
       "...                               ...  \n",
       "590535                            NaN  \n",
       "590536                            NaN  \n",
       "590537                            NaN  \n",
       "590538                            NaN  \n",
       "590539                            NaN  \n",
       "\n",
       "[590540 rows x 31 columns]"
      ],
      "text/html": "<div>\n<style scoped>\n    .dataframe tbody tr th:only-of-type {\n        vertical-align: middle;\n    }\n\n    .dataframe tbody tr th {\n        vertical-align: top;\n    }\n\n    .dataframe thead th {\n        text-align: right;\n    }\n</style>\n<table border=\"1\" class=\"dataframe\">\n  <thead>\n    <tr style=\"text-align: right;\">\n      <th></th>\n      <th>ProductCD</th>\n      <th>card4</th>\n      <th>card6</th>\n      <th>P_emaildomain</th>\n      <th>R_emaildomain</th>\n      <th>M1</th>\n      <th>M2</th>\n      <th>M3</th>\n      <th>M4</th>\n      <th>M5</th>\n      <th>M6</th>\n      <th>M7</th>\n      <th>M8</th>\n      <th>M9</th>\n      <th>id_12</th>\n      <th>id_15</th>\n      <th>id_16</th>\n      <th>id_23</th>\n      <th>id_27</th>\n      <th>id_28</th>\n      <th>id_29</th>\n      <th>id_30</th>\n      <th>id_31</th>\n      <th>id_33</th>\n      <th>id_34</th>\n      <th>id_35</th>\n      <th>id_36</th>\n      <th>id_37</th>\n      <th>id_38</th>\n      <th>DeviceType</th>\n      <th>DeviceInfo</th>\n    </tr>\n  </thead>\n  <tbody>\n    <tr>\n      <th>0</th>\n      <td>W</td>\n      <td>discover</td>\n      <td>credit</td>\n      <td>NaN</td>\n      <td>NaN</td>\n      <td>T</td>\n      <td>T</td>\n      <td>T</td>\n      <td>M2</td>\n      <td>F</td>\n      <td>T</td>\n      <td>NaN</td>\n      <td>NaN</td>\n      <td>NaN</td>\n      <td>NaN</td>\n      <td>NaN</td>\n      <td>NaN</td>\n      <td>NaN</td>\n      <td>NaN</td>\n      <td>NaN</td>\n      <td>NaN</td>\n      <td>NaN</td>\n      <td>NaN</td>\n      <td>NaN</td>\n      <td>NaN</td>\n      <td>NaN</td>\n      <td>NaN</td>\n      <td>NaN</td>\n      <td>NaN</td>\n      <td>NaN</td>\n      <td>NaN</td>\n    </tr>\n    <tr>\n      <th>1</th>\n      <td>W</td>\n      <td>mastercard</td>\n      <td>credit</td>\n      <td>gmail.com</td>\n      <td>NaN</td>\n      <td>NaN</td>\n      <td>NaN</td>\n      <td>NaN</td>\n      <td>M0</td>\n      <td>T</td>\n      <td>T</td>\n      <td>NaN</td>\n      <td>NaN</td>\n      <td>NaN</td>\n      <td>NaN</td>\n      <td>NaN</td>\n      <td>NaN</td>\n      <td>NaN</td>\n      <td>NaN</td>\n      <td>NaN</td>\n      <td>NaN</td>\n      <td>NaN</td>\n      <td>NaN</td>\n      <td>NaN</td>\n      <td>NaN</td>\n      <td>NaN</td>\n      <td>NaN</td>\n      <td>NaN</td>\n      <td>NaN</td>\n      <td>NaN</td>\n      <td>NaN</td>\n    </tr>\n    <tr>\n      <th>2</th>\n      <td>W</td>\n      <td>visa</td>\n      <td>debit</td>\n      <td>outlook.com</td>\n      <td>NaN</td>\n      <td>T</td>\n      <td>T</td>\n      <td>T</td>\n      <td>M0</td>\n      <td>F</td>\n      <td>F</td>\n      <td>F</td>\n      <td>F</td>\n      <td>F</td>\n      <td>NaN</td>\n      <td>NaN</td>\n      <td>NaN</td>\n      <td>NaN</td>\n      <td>NaN</td>\n      <td>NaN</td>\n      <td>NaN</td>\n      <td>NaN</td>\n      <td>NaN</td>\n      <td>NaN</td>\n      <td>NaN</td>\n      <td>NaN</td>\n      <td>NaN</td>\n      <td>NaN</td>\n      <td>NaN</td>\n      <td>NaN</td>\n      <td>NaN</td>\n    </tr>\n    <tr>\n      <th>3</th>\n      <td>W</td>\n      <td>mastercard</td>\n      <td>debit</td>\n      <td>yahoo.com</td>\n      <td>NaN</td>\n      <td>NaN</td>\n      <td>NaN</td>\n      <td>NaN</td>\n      <td>M0</td>\n      <td>T</td>\n      <td>F</td>\n      <td>NaN</td>\n      <td>NaN</td>\n      <td>NaN</td>\n      <td>NaN</td>\n      <td>NaN</td>\n      <td>NaN</td>\n      <td>NaN</td>\n      <td>NaN</td>\n      <td>NaN</td>\n      <td>NaN</td>\n      <td>NaN</td>\n      <td>NaN</td>\n      <td>NaN</td>\n      <td>NaN</td>\n      <td>NaN</td>\n      <td>NaN</td>\n      <td>NaN</td>\n      <td>NaN</td>\n      <td>NaN</td>\n      <td>NaN</td>\n    </tr>\n    <tr>\n      <th>4</th>\n      <td>H</td>\n      <td>mastercard</td>\n      <td>credit</td>\n      <td>gmail.com</td>\n      <td>NaN</td>\n      <td>NaN</td>\n      <td>NaN</td>\n      <td>NaN</td>\n      <td>NaN</td>\n      <td>NaN</td>\n      <td>NaN</td>\n      <td>NaN</td>\n      <td>NaN</td>\n      <td>NaN</td>\n      <td>NotFound</td>\n      <td>New</td>\n      <td>NotFound</td>\n      <td>NaN</td>\n      <td>NaN</td>\n      <td>New</td>\n      <td>NotFound</td>\n      <td>Android 7.0</td>\n      <td>samsung browser 6.2</td>\n      <td>2220x1080</td>\n      <td>match_status:2</td>\n      <td>T</td>\n      <td>F</td>\n      <td>T</td>\n      <td>T</td>\n      <td>mobile</td>\n      <td>SAMSUNG SM-G892A Build/NRD90M</td>\n    </tr>\n    <tr>\n      <th>...</th>\n      <td>...</td>\n      <td>...</td>\n      <td>...</td>\n      <td>...</td>\n      <td>...</td>\n      <td>...</td>\n      <td>...</td>\n      <td>...</td>\n      <td>...</td>\n      <td>...</td>\n      <td>...</td>\n      <td>...</td>\n      <td>...</td>\n      <td>...</td>\n      <td>...</td>\n      <td>...</td>\n      <td>...</td>\n      <td>...</td>\n      <td>...</td>\n      <td>...</td>\n      <td>...</td>\n      <td>...</td>\n      <td>...</td>\n      <td>...</td>\n      <td>...</td>\n      <td>...</td>\n      <td>...</td>\n      <td>...</td>\n      <td>...</td>\n      <td>...</td>\n      <td>...</td>\n    </tr>\n    <tr>\n      <th>590535</th>\n      <td>W</td>\n      <td>visa</td>\n      <td>debit</td>\n      <td>NaN</td>\n      <td>NaN</td>\n      <td>T</td>\n      <td>T</td>\n      <td>T</td>\n      <td>M0</td>\n      <td>T</td>\n      <td>F</td>\n      <td>F</td>\n      <td>F</td>\n      <td>T</td>\n      <td>NaN</td>\n      <td>NaN</td>\n      <td>NaN</td>\n      <td>NaN</td>\n      <td>NaN</td>\n      <td>NaN</td>\n      <td>NaN</td>\n      <td>NaN</td>\n      <td>NaN</td>\n      <td>NaN</td>\n      <td>NaN</td>\n      <td>NaN</td>\n      <td>NaN</td>\n      <td>NaN</td>\n      <td>NaN</td>\n      <td>NaN</td>\n      <td>NaN</td>\n    </tr>\n    <tr>\n      <th>590536</th>\n      <td>W</td>\n      <td>mastercard</td>\n      <td>debit</td>\n      <td>gmail.com</td>\n      <td>NaN</td>\n      <td>T</td>\n      <td>F</td>\n      <td>F</td>\n      <td>M0</td>\n      <td>F</td>\n      <td>T</td>\n      <td>F</td>\n      <td>F</td>\n      <td>F</td>\n      <td>NaN</td>\n      <td>NaN</td>\n      <td>NaN</td>\n      <td>NaN</td>\n      <td>NaN</td>\n      <td>NaN</td>\n      <td>NaN</td>\n      <td>NaN</td>\n      <td>NaN</td>\n      <td>NaN</td>\n      <td>NaN</td>\n      <td>NaN</td>\n      <td>NaN</td>\n      <td>NaN</td>\n      <td>NaN</td>\n      <td>NaN</td>\n      <td>NaN</td>\n    </tr>\n    <tr>\n      <th>590537</th>\n      <td>W</td>\n      <td>mastercard</td>\n      <td>debit</td>\n      <td>gmail.com</td>\n      <td>NaN</td>\n      <td>T</td>\n      <td>F</td>\n      <td>F</td>\n      <td>NaN</td>\n      <td>NaN</td>\n      <td>T</td>\n      <td>NaN</td>\n      <td>NaN</td>\n      <td>NaN</td>\n      <td>NaN</td>\n      <td>NaN</td>\n      <td>NaN</td>\n      <td>NaN</td>\n      <td>NaN</td>\n      <td>NaN</td>\n      <td>NaN</td>\n      <td>NaN</td>\n      <td>NaN</td>\n      <td>NaN</td>\n      <td>NaN</td>\n      <td>NaN</td>\n      <td>NaN</td>\n      <td>NaN</td>\n      <td>NaN</td>\n      <td>NaN</td>\n      <td>NaN</td>\n    </tr>\n    <tr>\n      <th>590538</th>\n      <td>W</td>\n      <td>mastercard</td>\n      <td>debit</td>\n      <td>aol.com</td>\n      <td>NaN</td>\n      <td>T</td>\n      <td>T</td>\n      <td>T</td>\n      <td>M0</td>\n      <td>F</td>\n      <td>T</td>\n      <td>NaN</td>\n      <td>NaN</td>\n      <td>NaN</td>\n      <td>NaN</td>\n      <td>NaN</td>\n      <td>NaN</td>\n      <td>NaN</td>\n      <td>NaN</td>\n      <td>NaN</td>\n      <td>NaN</td>\n      <td>NaN</td>\n      <td>NaN</td>\n      <td>NaN</td>\n      <td>NaN</td>\n      <td>NaN</td>\n      <td>NaN</td>\n      <td>NaN</td>\n      <td>NaN</td>\n      <td>NaN</td>\n      <td>NaN</td>\n    </tr>\n    <tr>\n      <th>590539</th>\n      <td>W</td>\n      <td>mastercard</td>\n      <td>credit</td>\n      <td>gmail.com</td>\n      <td>NaN</td>\n      <td>T</td>\n      <td>F</td>\n      <td>F</td>\n      <td>NaN</td>\n      <td>NaN</td>\n      <td>T</td>\n      <td>F</td>\n      <td>F</td>\n      <td>F</td>\n      <td>NaN</td>\n      <td>NaN</td>\n      <td>NaN</td>\n      <td>NaN</td>\n      <td>NaN</td>\n      <td>NaN</td>\n      <td>NaN</td>\n      <td>NaN</td>\n      <td>NaN</td>\n      <td>NaN</td>\n      <td>NaN</td>\n      <td>NaN</td>\n      <td>NaN</td>\n      <td>NaN</td>\n      <td>NaN</td>\n      <td>NaN</td>\n      <td>NaN</td>\n    </tr>\n  </tbody>\n</table>\n<p>590540 rows × 31 columns</p>\n</div>"
     },
     "metadata": {},
     "execution_count": 8
    }
   ],
   "source": [
    "merge.select_dtypes('object')"
   ]
  }
 ]
}