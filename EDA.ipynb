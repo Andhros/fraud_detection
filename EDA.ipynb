{
 "metadata": {
  "language_info": {
   "codemirror_mode": {
    "name": "ipython",
    "version": 3
   },
   "file_extension": ".py",
   "mimetype": "text/x-python",
   "name": "python",
   "nbconvert_exporter": "python",
   "pygments_lexer": "ipython3",
   "version": "3.8.3-final"
  },
  "orig_nbformat": 2,
  "kernelspec": {
   "name": "python3",
   "display_name": "Python 3.8.3 64-bit ('fraud': conda)",
   "metadata": {
    "interpreter": {
     "hash": "e482b9c64ffbfaaaaf7896809ce06214bfc369b6e81fe50ca43e810e3d8e53a8"
    }
   }
  }
 },
 "nbformat": 4,
 "nbformat_minor": 2,
 "cells": [
  {
   "cell_type": "code",
   "execution_count": 1,
   "metadata": {},
   "outputs": [],
   "source": [
    "import pandas as pd\n",
    "import os\n",
    "import seaborn as sns"
   ]
  },
  {
   "cell_type": "code",
   "execution_count": 2,
   "metadata": {},
   "outputs": [],
   "source": [
    "pd.set_option('display.max_columns', 500)"
   ]
  },
  {
   "cell_type": "code",
   "execution_count": 3,
   "metadata": {},
   "outputs": [],
   "source": [
    "idee = pd.read_csv('train_identity.csv')\n",
    "transaction = pd.read_csv('train_transaction.csv')"
   ]
  },
  {
   "cell_type": "code",
   "execution_count": 4,
   "metadata": {},
   "outputs": [],
   "source": [
    "merge = transaction.merge(idee, how='outer', on='TransactionID')"
   ]
  },
  {
   "cell_type": "code",
   "execution_count": 5,
   "metadata": {},
   "outputs": [
    {
     "output_type": "execute_result",
     "data": {
      "text/plain": [
       "float64    399\n",
       "object      31\n",
       "int64        4\n",
       "dtype: int64"
      ]
     },
     "metadata": {},
     "execution_count": 5
    }
   ],
   "source": [
    "merge.dtypes.value_counts()"
   ]
  },
  {
   "cell_type": "code",
   "execution_count": 6,
   "metadata": {},
   "outputs": [
    {
     "output_type": "stream",
     "name": "stdout",
     "text": [
      "<class 'pandas.core.frame.DataFrame'>\nInt64Index: 590540 entries, 0 to 590539\nData columns (total 31 columns):\n #   Column         Non-Null Count   Dtype \n---  ------         --------------   ----- \n 0   ProductCD      590540 non-null  object\n 1   card4          588963 non-null  object\n 2   card6          588969 non-null  object\n 3   P_emaildomain  496084 non-null  object\n 4   R_emaildomain  137291 non-null  object\n 5   M1             319440 non-null  object\n 6   M2             319440 non-null  object\n 7   M3             319440 non-null  object\n 8   M4             309096 non-null  object\n 9   M5             240058 non-null  object\n 10  M6             421180 non-null  object\n 11  M7             244275 non-null  object\n 12  M8             244288 non-null  object\n 13  M9             244288 non-null  object\n 14  id_12          144233 non-null  object\n 15  id_15          140985 non-null  object\n 16  id_16          129340 non-null  object\n 17  id_23          5169 non-null    object\n 18  id_27          5169 non-null    object\n 19  id_28          140978 non-null  object\n 20  id_29          140978 non-null  object\n 21  id_30          77565 non-null   object\n 22  id_31          140282 non-null  object\n 23  id_33          73289 non-null   object\n 24  id_34          77805 non-null   object\n 25  id_35          140985 non-null  object\n 26  id_36          140985 non-null  object\n 27  id_37          140985 non-null  object\n 28  id_38          140985 non-null  object\n 29  DeviceType     140810 non-null  object\n 30  DeviceInfo     118666 non-null  object\ndtypes: object(31)\nmemory usage: 144.2+ MB\nNone\n###\n<class 'pandas.core.frame.DataFrame'>\nInt64Index: 590540 entries, 0 to 590539\nColumns: 403 entries, TransactionID to id_32\ndtypes: float64(399), int64(4)\nmemory usage: 1.8 GB\nNone\n"
     ]
    }
   ],
   "source": [
    "objects = merge.select_dtypes('object')\n",
    "objects.astype('category')\n",
    "numbers = merge.select_dtypes(include=['float64', 'int64'])\n",
    "print(objects.info())\n",
    "print('###')\n",
    "print(numbers.info())"
   ]
  },
  {
   "cell_type": "code",
   "execution_count": 7,
   "metadata": {},
   "outputs": [
    {
     "output_type": "execute_result",
     "data": {
      "text/plain": [
       "  ProductCD       card4   card6 P_emaildomain R_emaildomain       M1       M2  \\\n",
       "0         W    discover  credit       Unknown       Unknown        T        T   \n",
       "1         W  mastercard  credit     gmail.com       Unknown  Unknown  Unknown   \n",
       "2         W        visa   debit   outlook.com       Unknown        T        T   \n",
       "3         W  mastercard   debit     yahoo.com       Unknown  Unknown  Unknown   \n",
       "4         H  mastercard  credit     gmail.com       Unknown  Unknown  Unknown   \n",
       "\n",
       "        M3       M4       M5       M6       M7       M8       M9     id_12  \\\n",
       "0        T       M2        F        T  Unknown  Unknown  Unknown   Unknown   \n",
       "1  Unknown       M0        T        T  Unknown  Unknown  Unknown   Unknown   \n",
       "2        T       M0        F        F        F        F        F   Unknown   \n",
       "3  Unknown       M0        T        F  Unknown  Unknown  Unknown   Unknown   \n",
       "4  Unknown  Unknown  Unknown  Unknown  Unknown  Unknown  Unknown  NotFound   \n",
       "\n",
       "     id_15     id_16    id_23    id_27    id_28     id_29        id_30  \\\n",
       "0  Unknown   Unknown  Unknown  Unknown  Unknown   Unknown      Unknown   \n",
       "1  Unknown   Unknown  Unknown  Unknown  Unknown   Unknown      Unknown   \n",
       "2  Unknown   Unknown  Unknown  Unknown  Unknown   Unknown      Unknown   \n",
       "3  Unknown   Unknown  Unknown  Unknown  Unknown   Unknown      Unknown   \n",
       "4      New  NotFound  Unknown  Unknown      New  NotFound  Android 7.0   \n",
       "\n",
       "                 id_31      id_33           id_34    id_35    id_36    id_37  \\\n",
       "0              Unknown    Unknown         Unknown  Unknown  Unknown  Unknown   \n",
       "1              Unknown    Unknown         Unknown  Unknown  Unknown  Unknown   \n",
       "2              Unknown    Unknown         Unknown  Unknown  Unknown  Unknown   \n",
       "3              Unknown    Unknown         Unknown  Unknown  Unknown  Unknown   \n",
       "4  samsung browser 6.2  2220x1080  match_status:2        T        F        T   \n",
       "\n",
       "     id_38 DeviceType                     DeviceInfo  \n",
       "0  Unknown    Unknown                        Unknown  \n",
       "1  Unknown    Unknown                        Unknown  \n",
       "2  Unknown    Unknown                        Unknown  \n",
       "3  Unknown    Unknown                        Unknown  \n",
       "4        T     mobile  SAMSUNG SM-G892A Build/NRD90M  "
      ],
      "text/html": "<div>\n<style scoped>\n    .dataframe tbody tr th:only-of-type {\n        vertical-align: middle;\n    }\n\n    .dataframe tbody tr th {\n        vertical-align: top;\n    }\n\n    .dataframe thead th {\n        text-align: right;\n    }\n</style>\n<table border=\"1\" class=\"dataframe\">\n  <thead>\n    <tr style=\"text-align: right;\">\n      <th></th>\n      <th>ProductCD</th>\n      <th>card4</th>\n      <th>card6</th>\n      <th>P_emaildomain</th>\n      <th>R_emaildomain</th>\n      <th>M1</th>\n      <th>M2</th>\n      <th>M3</th>\n      <th>M4</th>\n      <th>M5</th>\n      <th>M6</th>\n      <th>M7</th>\n      <th>M8</th>\n      <th>M9</th>\n      <th>id_12</th>\n      <th>id_15</th>\n      <th>id_16</th>\n      <th>id_23</th>\n      <th>id_27</th>\n      <th>id_28</th>\n      <th>id_29</th>\n      <th>id_30</th>\n      <th>id_31</th>\n      <th>id_33</th>\n      <th>id_34</th>\n      <th>id_35</th>\n      <th>id_36</th>\n      <th>id_37</th>\n      <th>id_38</th>\n      <th>DeviceType</th>\n      <th>DeviceInfo</th>\n    </tr>\n  </thead>\n  <tbody>\n    <tr>\n      <th>0</th>\n      <td>W</td>\n      <td>discover</td>\n      <td>credit</td>\n      <td>Unknown</td>\n      <td>Unknown</td>\n      <td>T</td>\n      <td>T</td>\n      <td>T</td>\n      <td>M2</td>\n      <td>F</td>\n      <td>T</td>\n      <td>Unknown</td>\n      <td>Unknown</td>\n      <td>Unknown</td>\n      <td>Unknown</td>\n      <td>Unknown</td>\n      <td>Unknown</td>\n      <td>Unknown</td>\n      <td>Unknown</td>\n      <td>Unknown</td>\n      <td>Unknown</td>\n      <td>Unknown</td>\n      <td>Unknown</td>\n      <td>Unknown</td>\n      <td>Unknown</td>\n      <td>Unknown</td>\n      <td>Unknown</td>\n      <td>Unknown</td>\n      <td>Unknown</td>\n      <td>Unknown</td>\n      <td>Unknown</td>\n    </tr>\n    <tr>\n      <th>1</th>\n      <td>W</td>\n      <td>mastercard</td>\n      <td>credit</td>\n      <td>gmail.com</td>\n      <td>Unknown</td>\n      <td>Unknown</td>\n      <td>Unknown</td>\n      <td>Unknown</td>\n      <td>M0</td>\n      <td>T</td>\n      <td>T</td>\n      <td>Unknown</td>\n      <td>Unknown</td>\n      <td>Unknown</td>\n      <td>Unknown</td>\n      <td>Unknown</td>\n      <td>Unknown</td>\n      <td>Unknown</td>\n      <td>Unknown</td>\n      <td>Unknown</td>\n      <td>Unknown</td>\n      <td>Unknown</td>\n      <td>Unknown</td>\n      <td>Unknown</td>\n      <td>Unknown</td>\n      <td>Unknown</td>\n      <td>Unknown</td>\n      <td>Unknown</td>\n      <td>Unknown</td>\n      <td>Unknown</td>\n      <td>Unknown</td>\n    </tr>\n    <tr>\n      <th>2</th>\n      <td>W</td>\n      <td>visa</td>\n      <td>debit</td>\n      <td>outlook.com</td>\n      <td>Unknown</td>\n      <td>T</td>\n      <td>T</td>\n      <td>T</td>\n      <td>M0</td>\n      <td>F</td>\n      <td>F</td>\n      <td>F</td>\n      <td>F</td>\n      <td>F</td>\n      <td>Unknown</td>\n      <td>Unknown</td>\n      <td>Unknown</td>\n      <td>Unknown</td>\n      <td>Unknown</td>\n      <td>Unknown</td>\n      <td>Unknown</td>\n      <td>Unknown</td>\n      <td>Unknown</td>\n      <td>Unknown</td>\n      <td>Unknown</td>\n      <td>Unknown</td>\n      <td>Unknown</td>\n      <td>Unknown</td>\n      <td>Unknown</td>\n      <td>Unknown</td>\n      <td>Unknown</td>\n    </tr>\n    <tr>\n      <th>3</th>\n      <td>W</td>\n      <td>mastercard</td>\n      <td>debit</td>\n      <td>yahoo.com</td>\n      <td>Unknown</td>\n      <td>Unknown</td>\n      <td>Unknown</td>\n      <td>Unknown</td>\n      <td>M0</td>\n      <td>T</td>\n      <td>F</td>\n      <td>Unknown</td>\n      <td>Unknown</td>\n      <td>Unknown</td>\n      <td>Unknown</td>\n      <td>Unknown</td>\n      <td>Unknown</td>\n      <td>Unknown</td>\n      <td>Unknown</td>\n      <td>Unknown</td>\n      <td>Unknown</td>\n      <td>Unknown</td>\n      <td>Unknown</td>\n      <td>Unknown</td>\n      <td>Unknown</td>\n      <td>Unknown</td>\n      <td>Unknown</td>\n      <td>Unknown</td>\n      <td>Unknown</td>\n      <td>Unknown</td>\n      <td>Unknown</td>\n    </tr>\n    <tr>\n      <th>4</th>\n      <td>H</td>\n      <td>mastercard</td>\n      <td>credit</td>\n      <td>gmail.com</td>\n      <td>Unknown</td>\n      <td>Unknown</td>\n      <td>Unknown</td>\n      <td>Unknown</td>\n      <td>Unknown</td>\n      <td>Unknown</td>\n      <td>Unknown</td>\n      <td>Unknown</td>\n      <td>Unknown</td>\n      <td>Unknown</td>\n      <td>NotFound</td>\n      <td>New</td>\n      <td>NotFound</td>\n      <td>Unknown</td>\n      <td>Unknown</td>\n      <td>New</td>\n      <td>NotFound</td>\n      <td>Android 7.0</td>\n      <td>samsung browser 6.2</td>\n      <td>2220x1080</td>\n      <td>match_status:2</td>\n      <td>T</td>\n      <td>F</td>\n      <td>T</td>\n      <td>T</td>\n      <td>mobile</td>\n      <td>SAMSUNG SM-G892A Build/NRD90M</td>\n    </tr>\n  </tbody>\n</table>\n</div>"
     },
     "metadata": {},
     "execution_count": 7
    }
   ],
   "source": [
    "objects.fillna(\"Unknown\", inplace=True)\n",
    "objects.head()"
   ]
  },
  {
   "cell_type": "code",
   "execution_count": 8,
   "metadata": {},
   "outputs": [],
   "source": [
    "objects = pd.get_dummies(objects)"
   ]
  },
  {
   "cell_type": "code",
   "execution_count": 9,
   "metadata": {},
   "outputs": [
    {
     "output_type": "stream",
     "name": "stdout",
     "text": [
      "<class 'pandas.core.frame.DataFrame'>\nInt64Index: 590540 entries, 0 to 590539\nColumns: 2462 entries, TransactionID to DeviceInfo_xs-Z47b7VqTMxs\ndtypes: int64(1), uint8(2461)\nmemory usage: 1.4 GB\nNone\n"
     ]
    }
   ],
   "source": [
    "objects['TransactionID'] = merge['TransactionID']\n",
    "cols = objects.columns.to_list()\n",
    "cols = cols[-1:] + cols[:-1]\n",
    "objects = objects[cols]\n",
    "objects.astype('category')\n",
    "print(objects.info())"
   ]
  },
  {
   "cell_type": "code",
   "execution_count": 10,
   "metadata": {},
   "outputs": [],
   "source": [
    "numbers.fillna(numbers.mean(), inplace=True)"
   ]
  },
  {
   "cell_type": "code",
   "execution_count": 11,
   "metadata": {
    "tags": []
   },
   "outputs": [
    {
     "output_type": "stream",
     "name": "stdout",
     "text": [
      "TransactionID     0\n",
      "isFraud           0\n",
      "TransactionDT     0\n",
      "TransactionAmt    0\n",
      "card1             0\n",
      "                 ..\n",
      "id_22             0\n",
      "id_24             0\n",
      "id_25             0\n",
      "id_26             0\n",
      "id_32             0\n",
      "Length: 403, dtype: int64\n",
      "TransactionID                0\n",
      "ProductCD_C                  0\n",
      "ProductCD_H                  0\n",
      "ProductCD_R                  0\n",
      "ProductCD_S                  0\n",
      "                            ..\n",
      "DeviceInfo_verykools5004     0\n",
      "DeviceInfo_verykools5034     0\n",
      "DeviceInfo_verykools5035     0\n",
      "DeviceInfo_vivo              0\n",
      "DeviceInfo_xs-Z47b7VqTMxs    0\n",
      "Length: 2462, dtype: int64\n"
     ]
    }
   ],
   "source": [
    "print(numbers.isna().sum())\n",
    "print(objects.isna().sum())"
   ]
  },
  {
   "cell_type": "code",
   "execution_count": 12,
   "metadata": {},
   "outputs": [
    {
     "output_type": "stream",
     "name": "stdout",
     "text": [
      "<class 'pandas.core.frame.DataFrame'>\nInt64Index: 590540 entries, 0 to 590539\nColumns: 2864 entries, TransactionID to id_32\ndtypes: float64(399), int64(4), uint8(2461)\nmemory usage: 3.1 GB\n"
     ]
    }
   ],
   "source": [
    "merge_filled = objects.merge(numbers, how='outer', on='TransactionID')\n",
    "del objects\n",
    "del numbers\n",
    "merge_filled.info()"
   ]
  },
  {
   "cell_type": "code",
   "execution_count": 13,
   "metadata": {},
   "outputs": [
    {
     "output_type": "stream",
     "name": "stdout",
     "text": [
      "<class 'pandas.core.frame.DataFrame'>\nInt64Index: 590540 entries, 0 to 590539\nColumns: 2863 entries, TransactionID to id_32\ndtypes: float64(399), int64(3), uint8(2461)\nmemory usage: 3.1 GB\nNone\n590540\n"
     ]
    }
   ],
   "source": [
    "X = merge_filled.copy()\n",
    "y = X.isFraud\n",
    "X.drop(columns='isFraud', inplace=True)\n",
    "print(X.info())\n",
    "print(len(y))"
   ]
  },
  {
   "cell_type": "code",
   "execution_count": 14,
   "metadata": {},
   "outputs": [],
   "source": [
    "from sklearn.model_selection import train_test_split\n",
    "\n",
    "X_train, X_test, y_train, y_test = train_test_split(X, y, test_size=0.3, random_state=37)"
   ]
  },
  {
   "cell_type": "code",
   "execution_count": 15,
   "metadata": {},
   "outputs": [
    {
     "output_type": "stream",
     "name": "stdout",
     "text": [
      "(413378, 2863) (413378,) (177162, 2863) (177162,)\n"
     ]
    }
   ],
   "source": [
    "print(X_train.shape, y_train.shape, X_test.shape, y_test.shape)"
   ]
  },
  {
   "cell_type": "code",
   "execution_count": 16,
   "metadata": {},
   "outputs": [
    {
     "output_type": "stream",
     "name": "stdout",
     "text": [
      "[LibLinear]"
     ]
    },
    {
     "output_type": "execute_result",
     "data": {
      "text/plain": [
       "Pipeline(steps=[('logisticregression',\n",
       "                 LogisticRegression(C=1e+42, max_iter=150, solver='liblinear',\n",
       "                                    verbose=1))])"
      ]
     },
     "metadata": {},
     "execution_count": 16
    }
   ],
   "source": [
    "from sklearn.pipeline import make_pipeline\n",
    "from sklearn.preprocessing import StandardScaler\n",
    "from sklearn.linear_model import LogisticRegression\n",
    "\n",
    "pipe = make_pipeline(LogisticRegression(penalty='l2', C=1e42, max_iter=150, verbose=1, solver='liblinear'))\n",
    "pipe.fit(X_train, y_train)"
   ]
  },
  {
   "cell_type": "code",
   "execution_count": 17,
   "metadata": {},
   "outputs": [
    {
     "output_type": "execute_result",
     "data": {
      "text/plain": [
       "0.965133606529617"
      ]
     },
     "metadata": {},
     "execution_count": 17
    }
   ],
   "source": [
    "pipe.score(X_test, y_test)"
   ]
  },
  {
   "cell_type": "code",
   "execution_count": 18,
   "metadata": {},
   "outputs": [],
   "source": [
    "y_pred = pipe.predict(X_test)"
   ]
  },
  {
   "cell_type": "code",
   "execution_count": 19,
   "metadata": {},
   "outputs": [
    {
     "output_type": "stream",
     "name": "stdout",
     "text": [
      "              precision    recall  f1-score   support\n\n           0       0.97      1.00      0.98    171002\n           1       0.00      0.00      0.00      6160\n\n    accuracy                           0.97    177162\n   macro avg       0.48      0.50      0.49    177162\nweighted avg       0.93      0.97      0.95    177162\n\n"
     ]
    }
   ],
   "source": [
    "from sklearn.metrics import classification_report\n",
    "print(classification_report(y_test, y_pred))"
   ]
  },
  {
   "source": [
    "##---------------------------------------------------------------------------------------------------------------------------------\n",
    "## Undersampling"
   ],
   "cell_type": "markdown",
   "metadata": {}
  },
  {
   "cell_type": "code",
   "execution_count": 13,
   "metadata": {},
   "outputs": [
    {
     "output_type": "execute_result",
     "data": {
      "text/plain": [
       "0    569877\n",
       "1     20663\n",
       "Name: isFraud, dtype: int64"
      ]
     },
     "metadata": {},
     "execution_count": 13
    }
   ],
   "source": [
    "### undersampling\n",
    "\n",
    "total = merge_filled.shape[0]\n",
    "\n",
    "counts = merge_filled['isFraud'].value_counts()\n",
    "\n",
    "counts"
   ]
  },
  {
   "cell_type": "code",
   "execution_count": 14,
   "metadata": {},
   "outputs": [
    {
     "output_type": "stream",
     "name": "stdout",
     "text": [
      "No fraud: 96.50099908558268% => 569877\nFraud: 3.4990009144173126% => 20663\n"
     ]
    }
   ],
   "source": [
    "no_fraud = counts[0]\n",
    "fraud = counts[1]\n",
    "\n",
    "print(f'No fraud: {(no_fraud/total)*100}% => {no_fraud}')\n",
    "print(f'Fraud: {(fraud/total)*100}% => {fraud}')\n"
   ]
  },
  {
   "cell_type": "code",
   "execution_count": 15,
   "metadata": {},
   "outputs": [
    {
     "output_type": "execute_result",
     "data": {
      "text/plain": [
       "(20663, 2864)"
      ]
     },
     "metadata": {},
     "execution_count": 15
    }
   ],
   "source": [
    "fraud_df = merge_filled[merge_filled['isFraud'] == 1]\n",
    "\n",
    "no_fraud_df = merge_filled[merge_filled['isFraud'] == 0]\n",
    "\n",
    "no_fraud_df = no_fraud_df.iloc[:fraud]\n",
    "\n",
    "no_fraud_df.shape"
   ]
  },
  {
   "cell_type": "code",
   "execution_count": 18,
   "metadata": {},
   "outputs": [
    {
     "output_type": "stream",
     "name": "stdout",
     "text": [
      "No fraud: 50.0% => 20663\nFraud: 50.0% => 20663\n"
     ]
    }
   ],
   "source": [
    "undersample = pd.concat([no_fraud_df, fraud_df])\n",
    "\n",
    "total = undersample.shape[0]\n",
    "\n",
    "counts = undersample['isFraud'].value_counts()\n",
    "\n",
    "no_fraud = counts[0]\n",
    "fraud = counts[1]\n",
    "\n",
    "print(f'No fraud: {(no_fraud/total)*100}% => {no_fraud}')\n",
    "print(f'Fraud: {(fraud/total)*100}% => {fraud}')"
   ]
  },
  {
   "cell_type": "code",
   "execution_count": 21,
   "metadata": {},
   "outputs": [
    {
     "output_type": "stream",
     "name": "stdout",
     "text": [
      "<class 'pandas.core.frame.DataFrame'>\nRangeIndex: 41326 entries, 0 to 41325\nColumns: 2863 entries, TransactionID to id_32\ndtypes: float64(399), int64(3), uint8(2461)\nmemory usage: 223.7 MB\nNone\n41326\n"
     ]
    }
   ],
   "source": [
    "X = undersample.copy()\n",
    "y = X.isFraud\n",
    "X.drop(columns='isFraud', inplace=True)\n",
    "X.reset_index(drop=True, inplace=True)\n",
    "y.reset_index(drop=True, inplace=True)\n",
    "print(X.info())\n",
    "print(len(y))"
   ]
  },
  {
   "cell_type": "code",
   "execution_count": 23,
   "metadata": {},
   "outputs": [
    {
     "output_type": "stream",
     "name": "stdout",
     "text": [
      "(28928, 2863) (28928,) (12398, 2863) (12398,)\n"
     ]
    }
   ],
   "source": [
    "from sklearn.model_selection import train_test_split\n",
    "\n",
    "X_train, X_test, y_train, y_test = train_test_split(X, y, test_size=0.3, random_state=37)\n",
    "print(X_train.shape, y_train.shape, X_test.shape, y_test.shape)"
   ]
  },
  {
   "cell_type": "code",
   "execution_count": 24,
   "metadata": {},
   "outputs": [
    {
     "output_type": "stream",
     "name": "stdout",
     "text": [
      "1    14492\n0    14436\nName: isFraud, dtype: int64\n0    6227\n1    6171\nName: isFraud, dtype: int64\n"
     ]
    }
   ],
   "source": [
    "print(y_train.value_counts())\n",
    "print(y_test.value_counts())"
   ]
  },
  {
   "cell_type": "code",
   "execution_count": 25,
   "metadata": {},
   "outputs": [
    {
     "output_type": "stream",
     "name": "stdout",
     "text": [
      "[LibLinear]"
     ]
    },
    {
     "output_type": "execute_result",
     "data": {
      "text/plain": [
       "Pipeline(steps=[('logisticregression',\n",
       "                 LogisticRegression(C=0.001, max_iter=150, solver='liblinear',\n",
       "                                    verbose=1))])"
      ]
     },
     "metadata": {},
     "execution_count": 25
    }
   ],
   "source": [
    "from sklearn.pipeline import make_pipeline\n",
    "from sklearn.preprocessing import StandardScaler\n",
    "from sklearn.linear_model import LogisticRegression\n",
    "\n",
    "pipe = make_pipeline(LogisticRegression(penalty='l2', C=0.001, max_iter=150, verbose=1, solver='liblinear'))\n",
    "pipe.fit(X_train, y_train)"
   ]
  },
  {
   "cell_type": "code",
   "execution_count": 26,
   "metadata": {},
   "outputs": [
    {
     "output_type": "execute_result",
     "data": {
      "text/plain": [
       "0.9796741409904823"
      ]
     },
     "metadata": {},
     "execution_count": 26
    }
   ],
   "source": [
    "pipe.score(X_test, y_test)"
   ]
  },
  {
   "cell_type": "code",
   "execution_count": 27,
   "metadata": {},
   "outputs": [
    {
     "output_type": "stream",
     "name": "stdout",
     "text": [
      "              precision    recall  f1-score   support\n\n           0       0.96      1.00      0.98      6227\n           1       1.00      0.96      0.98      6171\n\n    accuracy                           0.98     12398\n   macro avg       0.98      0.98      0.98     12398\nweighted avg       0.98      0.98      0.98     12398\n\n"
     ]
    }
   ],
   "source": [
    "y_pred = pipe.predict(X_test)\n",
    "from sklearn.metrics import classification_report\n",
    "print(classification_report(y_test, y_pred))"
   ]
  },
  {
   "cell_type": "code",
   "execution_count": 34,
   "metadata": {},
   "outputs": [
    {
     "output_type": "stream",
     "name": "stdout",
     "text": [
      "0    6227\n1    6171\nName: isFraud, dtype: int64\n0    6479\n1    5919\ndtype: int64\n"
     ]
    }
   ],
   "source": [
    "print(y_test.value_counts())\n",
    "print(pd.Series(y_pred).value_counts())"
   ]
  },
  {
   "source": [
    "##----------------------------------------------------------------------------------------------------------------------------------------------\n",
    "## Test dataset"
   ],
   "cell_type": "markdown",
   "metadata": {}
  },
  {
   "cell_type": "code",
   "execution_count": 31,
   "metadata": {},
   "outputs": [
    {
     "output_type": "stream",
     "name": "stdout",
     "text": [
      "<class 'pandas.core.frame.DataFrame'>\n",
      "Int64Index: 506691 entries, 0 to 506690\n",
      "Columns: 433 entries, TransactionID to DeviceInfo\n",
      "dtypes: float64(399), int64(3), object(31)\n",
      "memory usage: 1.6+ GB\n",
      "None\n",
      "float64    399\n",
      "object      31\n",
      "int64        3\n",
      "dtype: int64\n",
      "<class 'pandas.core.frame.DataFrame'>\n",
      "Int64Index: 506691 entries, 0 to 506690\n",
      "Columns: 3447 entries, TransactionID to id-32\n",
      "dtypes: float64(399), int64(3), uint8(3045)\n",
      "memory usage: 3.0 GB\n",
      "None\n"
     ]
    }
   ],
   "source": [
    "# test set preprocessing\n",
    "\n",
    "idee = pd.read_csv('test_identity.csv')\n",
    "transaction = pd.read_csv('test_transaction.csv')\n",
    "merge = transaction.merge(idee, how='outer', on='TransactionID')\n",
    "print(merge.info())\n",
    "print(merge.dtypes.value_counts())\n",
    "objects = merge.select_dtypes('object')\n",
    "numbers = merge.select_dtypes(include=['float64', 'int64'])\n",
    "objects.fillna(\"Unknown\", inplace=True)\n",
    "objects = pd.get_dummies(objects)\n",
    "objects['TransactionID'] = merge['TransactionID']\n",
    "cols = objects.columns.to_list()\n",
    "cols = cols[-1:] + cols[:-1]\n",
    "objects = objects[cols]\n",
    "objects.astype('category')\n",
    "numbers.fillna(numbers.mean(), inplace=True)\n",
    "merge_filled_test = objects.merge(numbers, how='outer', on='TransactionID')\n",
    "del objects\n",
    "del numbers\n",
    "X_test = merge_filled_test.copy()\n",
    "print(X_test.info())"
   ]
  },
  {
   "cell_type": "code",
   "execution_count": 32,
   "metadata": {},
   "outputs": [
    {
     "output_type": "error",
     "ename": "ValueError",
     "evalue": "X has 3447 features per sample; expecting 2863",
     "traceback": [
      "\u001b[1;31m---------------------------------------------------------------------------\u001b[0m",
      "\u001b[1;31mValueError\u001b[0m                                Traceback (most recent call last)",
      "\u001b[1;32m<ipython-input-32-a8042f15377c>\u001b[0m in \u001b[0;36m<module>\u001b[1;34m\u001b[0m\n\u001b[1;32m----> 1\u001b[1;33m \u001b[0mX_test\u001b[0m\u001b[1;33m[\u001b[0m\u001b[1;34m'isFraud'\u001b[0m\u001b[1;33m]\u001b[0m \u001b[1;33m=\u001b[0m \u001b[0mpipe\u001b[0m\u001b[1;33m.\u001b[0m\u001b[0mpredict\u001b[0m\u001b[1;33m(\u001b[0m\u001b[0mX_test\u001b[0m\u001b[1;33m)\u001b[0m\u001b[1;33m\u001b[0m\u001b[1;33m\u001b[0m\u001b[0m\n\u001b[0m",
      "\u001b[1;32m~\\anaconda3\\envs\\fraud\\lib\\site-packages\\sklearn\\utils\\metaestimators.py\u001b[0m in \u001b[0;36m<lambda>\u001b[1;34m(*args, **kwargs)\u001b[0m\n\u001b[0;32m    118\u001b[0m \u001b[1;33m\u001b[0m\u001b[0m\n\u001b[0;32m    119\u001b[0m         \u001b[1;31m# lambda, but not partial, allows help() to work with update_wrapper\u001b[0m\u001b[1;33m\u001b[0m\u001b[1;33m\u001b[0m\u001b[1;33m\u001b[0m\u001b[0m\n\u001b[1;32m--> 120\u001b[1;33m         \u001b[0mout\u001b[0m \u001b[1;33m=\u001b[0m \u001b[1;32mlambda\u001b[0m \u001b[1;33m*\u001b[0m\u001b[0margs\u001b[0m\u001b[1;33m,\u001b[0m \u001b[1;33m**\u001b[0m\u001b[0mkwargs\u001b[0m\u001b[1;33m:\u001b[0m \u001b[0mself\u001b[0m\u001b[1;33m.\u001b[0m\u001b[0mfn\u001b[0m\u001b[1;33m(\u001b[0m\u001b[0mobj\u001b[0m\u001b[1;33m,\u001b[0m \u001b[1;33m*\u001b[0m\u001b[0margs\u001b[0m\u001b[1;33m,\u001b[0m \u001b[1;33m**\u001b[0m\u001b[0mkwargs\u001b[0m\u001b[1;33m)\u001b[0m\u001b[1;33m\u001b[0m\u001b[1;33m\u001b[0m\u001b[0m\n\u001b[0m\u001b[0;32m    121\u001b[0m         \u001b[1;31m# update the docstring of the returned function\u001b[0m\u001b[1;33m\u001b[0m\u001b[1;33m\u001b[0m\u001b[1;33m\u001b[0m\u001b[0m\n\u001b[0;32m    122\u001b[0m         \u001b[0mupdate_wrapper\u001b[0m\u001b[1;33m(\u001b[0m\u001b[0mout\u001b[0m\u001b[1;33m,\u001b[0m \u001b[0mself\u001b[0m\u001b[1;33m.\u001b[0m\u001b[0mfn\u001b[0m\u001b[1;33m)\u001b[0m\u001b[1;33m\u001b[0m\u001b[1;33m\u001b[0m\u001b[0m\n",
      "\u001b[1;32m~\\anaconda3\\envs\\fraud\\lib\\site-packages\\sklearn\\pipeline.py\u001b[0m in \u001b[0;36mpredict\u001b[1;34m(self, X, **predict_params)\u001b[0m\n\u001b[0;32m    417\u001b[0m         \u001b[1;32mfor\u001b[0m \u001b[0m_\u001b[0m\u001b[1;33m,\u001b[0m \u001b[0mname\u001b[0m\u001b[1;33m,\u001b[0m \u001b[0mtransform\u001b[0m \u001b[1;32min\u001b[0m \u001b[0mself\u001b[0m\u001b[1;33m.\u001b[0m\u001b[0m_iter\u001b[0m\u001b[1;33m(\u001b[0m\u001b[0mwith_final\u001b[0m\u001b[1;33m=\u001b[0m\u001b[1;32mFalse\u001b[0m\u001b[1;33m)\u001b[0m\u001b[1;33m:\u001b[0m\u001b[1;33m\u001b[0m\u001b[1;33m\u001b[0m\u001b[0m\n\u001b[0;32m    418\u001b[0m             \u001b[0mXt\u001b[0m \u001b[1;33m=\u001b[0m \u001b[0mtransform\u001b[0m\u001b[1;33m.\u001b[0m\u001b[0mtransform\u001b[0m\u001b[1;33m(\u001b[0m\u001b[0mXt\u001b[0m\u001b[1;33m)\u001b[0m\u001b[1;33m\u001b[0m\u001b[1;33m\u001b[0m\u001b[0m\n\u001b[1;32m--> 419\u001b[1;33m         \u001b[1;32mreturn\u001b[0m \u001b[0mself\u001b[0m\u001b[1;33m.\u001b[0m\u001b[0msteps\u001b[0m\u001b[1;33m[\u001b[0m\u001b[1;33m-\u001b[0m\u001b[1;36m1\u001b[0m\u001b[1;33m]\u001b[0m\u001b[1;33m[\u001b[0m\u001b[1;33m-\u001b[0m\u001b[1;36m1\u001b[0m\u001b[1;33m]\u001b[0m\u001b[1;33m.\u001b[0m\u001b[0mpredict\u001b[0m\u001b[1;33m(\u001b[0m\u001b[0mXt\u001b[0m\u001b[1;33m,\u001b[0m \u001b[1;33m**\u001b[0m\u001b[0mpredict_params\u001b[0m\u001b[1;33m)\u001b[0m\u001b[1;33m\u001b[0m\u001b[1;33m\u001b[0m\u001b[0m\n\u001b[0m\u001b[0;32m    420\u001b[0m \u001b[1;33m\u001b[0m\u001b[0m\n\u001b[0;32m    421\u001b[0m     \u001b[1;33m@\u001b[0m\u001b[0mif_delegate_has_method\u001b[0m\u001b[1;33m(\u001b[0m\u001b[0mdelegate\u001b[0m\u001b[1;33m=\u001b[0m\u001b[1;34m'_final_estimator'\u001b[0m\u001b[1;33m)\u001b[0m\u001b[1;33m\u001b[0m\u001b[1;33m\u001b[0m\u001b[0m\n",
      "\u001b[1;32m~\\anaconda3\\envs\\fraud\\lib\\site-packages\\sklearn\\linear_model\\_base.py\u001b[0m in \u001b[0;36mpredict\u001b[1;34m(self, X)\u001b[0m\n\u001b[0;32m    307\u001b[0m             \u001b[0mPredicted\u001b[0m \u001b[1;32mclass\u001b[0m \u001b[0mlabel\u001b[0m \u001b[0mper\u001b[0m \u001b[0msample\u001b[0m\u001b[1;33m.\u001b[0m\u001b[1;33m\u001b[0m\u001b[1;33m\u001b[0m\u001b[0m\n\u001b[0;32m    308\u001b[0m         \"\"\"\n\u001b[1;32m--> 309\u001b[1;33m         \u001b[0mscores\u001b[0m \u001b[1;33m=\u001b[0m \u001b[0mself\u001b[0m\u001b[1;33m.\u001b[0m\u001b[0mdecision_function\u001b[0m\u001b[1;33m(\u001b[0m\u001b[0mX\u001b[0m\u001b[1;33m)\u001b[0m\u001b[1;33m\u001b[0m\u001b[1;33m\u001b[0m\u001b[0m\n\u001b[0m\u001b[0;32m    310\u001b[0m         \u001b[1;32mif\u001b[0m \u001b[0mlen\u001b[0m\u001b[1;33m(\u001b[0m\u001b[0mscores\u001b[0m\u001b[1;33m.\u001b[0m\u001b[0mshape\u001b[0m\u001b[1;33m)\u001b[0m \u001b[1;33m==\u001b[0m \u001b[1;36m1\u001b[0m\u001b[1;33m:\u001b[0m\u001b[1;33m\u001b[0m\u001b[1;33m\u001b[0m\u001b[0m\n\u001b[0;32m    311\u001b[0m             \u001b[0mindices\u001b[0m \u001b[1;33m=\u001b[0m \u001b[1;33m(\u001b[0m\u001b[0mscores\u001b[0m \u001b[1;33m>\u001b[0m \u001b[1;36m0\u001b[0m\u001b[1;33m)\u001b[0m\u001b[1;33m.\u001b[0m\u001b[0mastype\u001b[0m\u001b[1;33m(\u001b[0m\u001b[0mint\u001b[0m\u001b[1;33m)\u001b[0m\u001b[1;33m\u001b[0m\u001b[1;33m\u001b[0m\u001b[0m\n",
      "\u001b[1;32m~\\anaconda3\\envs\\fraud\\lib\\site-packages\\sklearn\\linear_model\\_base.py\u001b[0m in \u001b[0;36mdecision_function\u001b[1;34m(self, X)\u001b[0m\n\u001b[0;32m    286\u001b[0m         \u001b[0mn_features\u001b[0m \u001b[1;33m=\u001b[0m \u001b[0mself\u001b[0m\u001b[1;33m.\u001b[0m\u001b[0mcoef_\u001b[0m\u001b[1;33m.\u001b[0m\u001b[0mshape\u001b[0m\u001b[1;33m[\u001b[0m\u001b[1;36m1\u001b[0m\u001b[1;33m]\u001b[0m\u001b[1;33m\u001b[0m\u001b[1;33m\u001b[0m\u001b[0m\n\u001b[0;32m    287\u001b[0m         \u001b[1;32mif\u001b[0m \u001b[0mX\u001b[0m\u001b[1;33m.\u001b[0m\u001b[0mshape\u001b[0m\u001b[1;33m[\u001b[0m\u001b[1;36m1\u001b[0m\u001b[1;33m]\u001b[0m \u001b[1;33m!=\u001b[0m \u001b[0mn_features\u001b[0m\u001b[1;33m:\u001b[0m\u001b[1;33m\u001b[0m\u001b[1;33m\u001b[0m\u001b[0m\n\u001b[1;32m--> 288\u001b[1;33m             raise ValueError(\"X has %d features per sample; expecting %d\"\n\u001b[0m\u001b[0;32m    289\u001b[0m                              % (X.shape[1], n_features))\n\u001b[0;32m    290\u001b[0m \u001b[1;33m\u001b[0m\u001b[0m\n",
      "\u001b[1;31mValueError\u001b[0m: X has 3447 features per sample; expecting 2863"
     ]
    }
   ],
   "source": []
  },
  {
   "cell_type": "code",
   "execution_count": null,
   "metadata": {},
   "outputs": [],
   "source": []
  },
  {
   "cell_type": "code",
   "execution_count": null,
   "metadata": {},
   "outputs": [],
   "source": []
  },
  {
   "cell_type": "code",
   "execution_count": null,
   "metadata": {},
   "outputs": [],
   "source": [
    "sample_sub = pd.read_csv('sample_submission.csv')\n",
    "sample_sub.head()"
   ]
  }
 ]
}