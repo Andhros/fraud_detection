{
 "metadata": {
  "language_info": {
   "codemirror_mode": {
    "name": "ipython",
    "version": 3
   },
   "file_extension": ".py",
   "mimetype": "text/x-python",
   "name": "python",
   "nbconvert_exporter": "python",
   "pygments_lexer": "ipython3",
   "version": "3.8.3-final"
  },
  "orig_nbformat": 2,
  "kernelspec": {
   "name": "python3",
   "display_name": "Python 3",
   "language": "python"
  }
 },
 "nbformat": 4,
 "nbformat_minor": 2,
 "cells": [
  {
   "cell_type": "code",
   "execution_count": 1,
   "metadata": {},
   "outputs": [],
   "source": [
    "# Lib Imports\n",
    "import pandas as pd\n",
    "import os\n",
    "import seaborn as sns\n",
    "import numpy as np\n",
    "import matplotlib.pyplot as plt\n",
    "from sklearn.model_selection import train_test_split\n",
    "from sklearn.linear_model import LogisticRegression\n",
    "from sklearn.metrics import mean_squared_error, accuracy_score, roc_auc_score, classification_report\n",
    "from sklearn.tree import DecisionTreeClassifier\n",
    "from imblearn.over_sampling import SMOTE\n",
    "from imblearn.over_sampling import ADASYN\n",
    "from imblearn.under_sampling import RandomUnderSampler\n",
    "from imblearn.over_sampling import RandomOverSampler\n",
    "from imblearn.ensemble import BalancedBaggingClassifier\n",
    "from imblearn.ensemble import RUSBoostClassifier\n",
    "from imblearn.ensemble import BalancedRandomForestClassifier\n",
    "from sklearn.ensemble import AdaBoostClassifier\n",
    "from sklearn.ensemble import GradientBoostingClassifier\n",
    "from sklearn.ensemble import RandomForestClassifier\n",
    "from category_encoders import TargetEncoder\n",
    "from sklearn.base import BaseEstimator, TransformerMixin\n",
    "from sklearn.model_selection import cross_val_score\n",
    "from sklearn.model_selection import KFold\n",
    "from sklearn.impute import SimpleImputer"
   ]
  },
  {
   "cell_type": "code",
   "execution_count": 2,
   "metadata": {},
   "outputs": [],
   "source": [
    "# Setting Pandas column display option\n",
    "pd.set_option('display.max_columns', 500)\n",
    "pd.set_option('display.max_rows', 500)"
   ]
  },
  {
   "cell_type": "code",
   "execution_count": 3,
   "metadata": {},
   "outputs": [
    {
     "output_type": "stream",
     "name": "stdout",
     "text": [
      "Wall time: 16.1 s\n"
     ]
    }
   ],
   "source": [
    "%%time\n",
    "idee = pd.read_csv('train_identity.csv')\n",
    "transaction = pd.read_csv('train_transaction.csv')"
   ]
  },
  {
   "cell_type": "code",
   "execution_count": 4,
   "metadata": {},
   "outputs": [
    {
     "output_type": "stream",
     "name": "stdout",
     "text": [
      "<class 'pandas.core.frame.DataFrame'>\nInt64Index: 590540 entries, 0 to 590539\nData columns (total 38 columns):\n #   Column         Non-Null Count   Dtype \n---  ------         --------------   ----- \n 0   ProductCD      590540 non-null  object\n 1   card4          590540 non-null  object\n 2   card6          590540 non-null  object\n 3   P_emaildomain  590540 non-null  object\n 4   R_emaildomain  590540 non-null  object\n 5   M1             590540 non-null  object\n 6   M2             590540 non-null  object\n 7   M3             590540 non-null  object\n 8   M4             590540 non-null  object\n 9   M5             590540 non-null  object\n 10  M6             590540 non-null  object\n 11  M7             590540 non-null  object\n 12  M8             590540 non-null  object\n 13  M9             590540 non-null  object\n 14  id_12          590540 non-null  object\n 15  id_15          590540 non-null  object\n 16  id_16          590540 non-null  object\n 17  id_23          590540 non-null  object\n 18  id_27          590540 non-null  object\n 19  id_28          590540 non-null  object\n 20  id_29          590540 non-null  object\n 21  id_30          590540 non-null  object\n 22  id_31          590540 non-null  object\n 23  id_33          590540 non-null  object\n 24  id_34          590540 non-null  object\n 25  id_35          590540 non-null  object\n 26  id_36          590540 non-null  object\n 27  id_37          590540 non-null  object\n 28  id_38          590540 non-null  object\n 29  DeviceType     590540 non-null  object\n 30  DeviceInfo     590540 non-null  object\n 31  card1          590540 non-null  object\n 32  card2          590540 non-null  object\n 33  card3          590540 non-null  object\n 34  card5          590540 non-null  object\n 35  addr1          590540 non-null  object\n 36  addr2          590540 non-null  object\n 37  isFraud        590540 non-null  object\ndtypes: object(38)\nmemory usage: 191.8+ MB\nNone\nWall time: 14.5 s\n"
     ]
    }
   ],
   "source": [
    "%%time\n",
    "def pipeline(idee, transaction):\n",
    "    merge = transaction.merge(idee, how='outer', on='TransactionID')\n",
    "    objects = merge.select_dtypes('object')\n",
    "    objects = objects.join(merge[['card1', 'card2', 'card3', 'card5', 'addr1', 'addr2']])\n",
    "    objects['isFraud'] = merge['isFraud']\n",
    "    objects.fillna(\"Unknown\", inplace=True)\n",
    "    objects = objects.astype('object')\n",
    "    #objects = objects.astype('category')\n",
    "    print(objects.info())\n",
    "    return objects\n",
    "objects = pipeline(idee,transaction)"
   ]
  },
  {
   "cell_type": "code",
   "execution_count": 5,
   "metadata": {},
   "outputs": [
    {
     "output_type": "stream",
     "name": "stdout",
     "text": [
      "Wall time: 1.04 s\n"
     ]
    }
   ],
   "source": [
    "%%time\n",
    "X  = objects.drop(columns='isFraud')\n",
    "y = objects['isFraud'].astype('int') \n",
    "\n",
    "X_train, X_test, y_train, y_test = train_test_split(X, y, test_size=0.3, random_state=123)"
   ]
  },
  {
   "cell_type": "code",
   "execution_count": 6,
   "metadata": {},
   "outputs": [],
   "source": [
    "brf = BalancedRandomForestClassifier(sampling_strategy='auto',\n",
    "                                     replacement=False,\n",
    "                                     random_state=0,\n",
    "                                     n_estimators=100,\n",
    "                                     n_jobs=-1)"
   ]
  },
  {
   "cell_type": "code",
   "execution_count": 7,
   "metadata": {},
   "outputs": [],
   "source": [
    "class TargetEncoderCV(TargetEncoder):\n",
    "    \"\"\"Cross-fold target encoder.\n",
    "    \"\"\"\n",
    "    \n",
    "    def __init__(self, n_splits=5, shuffle=True, cols=None):\n",
    "        \"\"\"Cross-fold target encoding for categorical features.\n",
    "        \n",
    "        Parameters\n",
    "        ----------\n",
    "        n_splits : int\n",
    "            Number of cross-fold splits. Default = 3.\n",
    "        shuffle : bool\n",
    "            Whether to shuffle the data when splitting into folds.\n",
    "        cols : list of str\n",
    "            Columns to target encode.\n",
    "        \"\"\"\n",
    "        self.n_splits = n_splits\n",
    "        self.shuffle = shuffle\n",
    "        self.cols = cols\n",
    "        \n",
    "\n",
    "    def fit(self, X, y):\n",
    "        \"\"\"Fit cross-fold target encoder to X and y\n",
    "        \n",
    "        Parameters\n",
    "        ----------\n",
    "        X : pandas DataFrame, shape [n_samples, n_columns]\n",
    "            DataFrame containing columns to encode\n",
    "        y : pandas Series, shape = [n_samples]\n",
    "            Target values.\n",
    "            \n",
    "        Returns\n",
    "        -------\n",
    "        self : encoder\n",
    "            Returns self.\n",
    "        \"\"\"\n",
    "        self._target_encoder = TargetEncoder(cols=self.cols)\n",
    "        self._target_encoder.fit(X, y)\n",
    "        return self\n",
    "\n",
    "    \n",
    "    def transform(self, X, y=None):\n",
    "        \"\"\"Perform the target encoding transformation.\n",
    "\n",
    "        Uses cross-fold target encoding for the training fold,\n",
    "        and uses normal target encoding for the test fold.\n",
    "\n",
    "        Parameters\n",
    "        ----------\n",
    "        X : pandas DataFrame, shape [n_samples, n_columns]\n",
    "            DataFrame containing columns to encode\n",
    "\n",
    "        Returns\n",
    "        -------\n",
    "        pandas DataFrame\n",
    "            Input DataFrame with transformed columns\n",
    "        \"\"\"\n",
    "\n",
    "        # Use target encoding from fit() if this is test data\n",
    "        if y is None:\n",
    "            return self._target_encoder.transform(X)\n",
    "\n",
    "        # Compute means for each fold\n",
    "        self._train_ix = []\n",
    "        self._test_ix = []\n",
    "        self._fit_tes = []\n",
    "        kf = KFold(n_splits=self.n_splits, shuffle=self.shuffle)\n",
    "        for train_ix, test_ix in kf.split(X):\n",
    "            self._train_ix.append(train_ix)\n",
    "            self._test_ix.append(test_ix)\n",
    "            te = TargetEncoder(cols=self.cols)\n",
    "            if isinstance(X, pd.DataFrame):\n",
    "                self._fit_tes.append(te.fit(X.iloc[train_ix,:],\n",
    "                                            y.iloc[train_ix]))\n",
    "            elif isinstance(X, np.ndarray):\n",
    "                self._fit_tes.append(te.fit(X[train_ix,:],\n",
    "                                            y[train_ix]))\n",
    "            else:\n",
    "                raise TypeError('X must be DataFrame or ndarray')\n",
    "\n",
    "        # Apply means across folds\n",
    "        Xo = X.copy()\n",
    "        for ix in range(len(self._test_ix)):\n",
    "            test_ix = self._test_ix[ix]\n",
    "            if isinstance(X, pd.DataFrame):\n",
    "                Xo.iloc[test_ix,:] = \\\n",
    "                    self._fit_tes[ix].transform(X.iloc[test_ix,:])\n",
    "            elif isinstance(X, np.ndarray):\n",
    "                Xo[test_ix,:] = \\\n",
    "                    self._fit_tes[ix].transform(X[test_ix,:])\n",
    "            else:\n",
    "                raise TypeError('X must be DataFrame or ndarray')\n",
    "        return Xo\n",
    "\n",
    "            \n",
    "    def fit_transform(self, X, y=None):\n",
    "        \"\"\"Fit and transform the data via target encoding.\n",
    "        \n",
    "        Parameters\n",
    "        ----------\n",
    "        X : pandas DataFrame, shape [n_samples, n_columns]\n",
    "            DataFrame containing columns to encode\n",
    "        y : pandas Series, shape = [n_samples]\n",
    "            Target values (required!).\n",
    "\n",
    "        Returns\n",
    "        -------\n",
    "        pandas DataFrame\n",
    "            Input DataFrame with transformed columns\n",
    "        \"\"\"\n",
    "        return self.fit(X, y).transform(X, y)\n"
   ]
  },
  {
   "cell_type": "code",
   "execution_count": 8,
   "metadata": {},
   "outputs": [],
   "source": [
    "te = TargetEncoderCV().fit(X_train, y_train)\n",
    "X_train_cv = te.transform(X_train.reset_index(drop=True))\n",
    "X_test_cv = te.transform(X_test.reset_index(drop=True))"
   ]
  },
  {
   "cell_type": "code",
   "execution_count": 9,
   "metadata": {},
   "outputs": [
    {
     "output_type": "execute_result",
     "data": {
      "text/plain": [
       "BalancedRandomForestClassifier(n_jobs=-1, random_state=0)"
      ]
     },
     "metadata": {},
     "execution_count": 9
    }
   ],
   "source": [
    "brf.fit(X_train_cv, y_train)"
   ]
  },
  {
   "cell_type": "code",
   "execution_count": 10,
   "metadata": {},
   "outputs": [
    {
     "output_type": "execute_result",
     "data": {
      "text/plain": [
       "0.9230374394405948"
      ]
     },
     "metadata": {},
     "execution_count": 10
    }
   ],
   "source": [
    "y_proba = brf.predict_proba(X_test_cv)[:,1]\n",
    "score = roc_auc_score(y_test, y_proba)\n",
    "score"
   ]
  },
  {
   "cell_type": "code",
   "execution_count": 11,
   "metadata": {},
   "outputs": [
    {
     "output_type": "stream",
     "name": "stdout",
     "text": [
      "              precision    recall  f1-score   support\n\n           0       0.99      0.86      0.92    170910\n           1       0.18      0.84      0.30      6252\n\n    accuracy                           0.86    177162\n   macro avg       0.59      0.85      0.61    177162\nweighted avg       0.96      0.86      0.90    177162\n\n"
     ]
    }
   ],
   "source": [
    "y_pred = brf.predict(X_test_cv)\n",
    "print(classification_report(y_test, y_pred))"
   ]
  },
  {
   "cell_type": "code",
   "execution_count": 12,
   "metadata": {},
   "outputs": [
    {
     "output_type": "stream",
     "name": "stdout",
     "text": [
      "tn: 147190\nfp: 23720\nfn: 972\ntp: 5280\n"
     ]
    }
   ],
   "source": [
    "from sklearn.metrics import confusion_matrix\n",
    "\n",
    "tn, fp, fn, tp = confusion_matrix(y_true=y_test, y_pred=y_pred).ravel()\n",
    "\n",
    "print(f'tn: {tn}')\n",
    "print(f'fp: {fp}')\n",
    "print(f'fn: {fn}')\n",
    "print(f'tp: {tp}')"
   ]
  },
  {
   "cell_type": "code",
   "execution_count": 13,
   "metadata": {},
   "outputs": [
    {
     "output_type": "stream",
     "name": "stdout",
     "text": [
      "Wall time: 25.6 s\n"
     ]
    }
   ],
   "source": [
    "%%time\n",
    "idee_test = pd.read_csv('test_identity.csv')\n",
    "transaction_test = pd.read_csv('test_transaction.csv') \n",
    "merge_test = transaction_test.merge(idee_test, how='outer', on='TransactionID')\n",
    "objects_test = merge_test.select_dtypes('object')\n",
    "objects_test = objects_test.join(merge_test[['card1', 'card2', 'card3', 'card5', 'addr1', 'addr2']])\n",
    "objects_test.fillna(\"Unknown\", inplace=True)\n",
    "objects_test = objects_test.astype('object')\n",
    "#objects_test = objects_test.astype('category')\n",
    "objects_test.columns = X_train.columns"
   ]
  },
  {
   "cell_type": "code",
   "execution_count": 14,
   "metadata": {},
   "outputs": [],
   "source": [
    "X2_cv = te.transform(objects_test.reset_index(drop=True))"
   ]
  },
  {
   "cell_type": "code",
   "execution_count": 15,
   "metadata": {},
   "outputs": [],
   "source": [
    "y_pred_test = brf.predict(X2_cv)"
   ]
  },
  {
   "cell_type": "code",
   "execution_count": 16,
   "metadata": {},
   "outputs": [
    {
     "output_type": "execute_result",
     "data": {
      "text/plain": [
       "        TransactionID  isFraud\n",
       "0             3663549        0\n",
       "1             3663550        0\n",
       "2             3663551        0\n",
       "3             3663552        0\n",
       "4             3663553        0\n",
       "...               ...      ...\n",
       "506686        4170235        0\n",
       "506687        4170236        0\n",
       "506688        4170237        0\n",
       "506689        4170238        0\n",
       "506690        4170239        0\n",
       "\n",
       "[506691 rows x 2 columns]"
      ],
      "text/html": "<div>\n<style scoped>\n    .dataframe tbody tr th:only-of-type {\n        vertical-align: middle;\n    }\n\n    .dataframe tbody tr th {\n        vertical-align: top;\n    }\n\n    .dataframe thead th {\n        text-align: right;\n    }\n</style>\n<table border=\"1\" class=\"dataframe\">\n  <thead>\n    <tr style=\"text-align: right;\">\n      <th></th>\n      <th>TransactionID</th>\n      <th>isFraud</th>\n    </tr>\n  </thead>\n  <tbody>\n    <tr>\n      <th>0</th>\n      <td>3663549</td>\n      <td>0</td>\n    </tr>\n    <tr>\n      <th>1</th>\n      <td>3663550</td>\n      <td>0</td>\n    </tr>\n    <tr>\n      <th>2</th>\n      <td>3663551</td>\n      <td>0</td>\n    </tr>\n    <tr>\n      <th>3</th>\n      <td>3663552</td>\n      <td>0</td>\n    </tr>\n    <tr>\n      <th>4</th>\n      <td>3663553</td>\n      <td>0</td>\n    </tr>\n    <tr>\n      <th>...</th>\n      <td>...</td>\n      <td>...</td>\n    </tr>\n    <tr>\n      <th>506686</th>\n      <td>4170235</td>\n      <td>0</td>\n    </tr>\n    <tr>\n      <th>506687</th>\n      <td>4170236</td>\n      <td>0</td>\n    </tr>\n    <tr>\n      <th>506688</th>\n      <td>4170237</td>\n      <td>0</td>\n    </tr>\n    <tr>\n      <th>506689</th>\n      <td>4170238</td>\n      <td>0</td>\n    </tr>\n    <tr>\n      <th>506690</th>\n      <td>4170239</td>\n      <td>0</td>\n    </tr>\n  </tbody>\n</table>\n<p>506691 rows × 2 columns</p>\n</div>"
     },
     "metadata": {},
     "execution_count": 16
    }
   ],
   "source": [
    "sub_data = {'TransactionID': np.array(merge_test.TransactionID), 'isFraud': y_pred_test}\n",
    "submission = pd.DataFrame(data=sub_data)\n",
    "submission"
   ]
  },
  {
   "cell_type": "code",
   "execution_count": 17,
   "metadata": {},
   "outputs": [],
   "source": [
    "submission.to_csv('submission.csv', index=False, doublequote=False, sep=',')"
   ]
  },
  {
   "cell_type": "code",
   "execution_count": null,
   "metadata": {},
   "outputs": [],
   "source": []
  }
 ]
}